{
  "nbformat": 4,
  "nbformat_minor": 0,
  "metadata": {
    "colab": {
      "name": "YouTube Trending Classification.ipynb",
      "version": "0.3.2",
      "provenance": [],
      "include_colab_link": true
    },
    "kernelspec": {
      "name": "python3",
      "display_name": "Python 3"
    }
  },
  "cells": [
    {
      "cell_type": "markdown",
      "metadata": {
        "id": "view-in-github",
        "colab_type": "text"
      },
      "source": [
        "<a href=\"https://colab.research.google.com/github/StevenMElliott/youtube-trending-classification/blob/master/YouTube_Trending_Classification.ipynb\" target=\"_parent\"><img src=\"https://colab.research.google.com/assets/colab-badge.svg\" alt=\"Open In Colab\"/></a>"
      ]
    },
    {
      "cell_type": "code",
      "metadata": {
        "id": "flZ8KFiwa3Hd",
        "colab_type": "code",
        "colab": {}
      },
      "source": [
        "!pip install eli5 pdpbox category_encoders shap"
      ],
      "execution_count": 0,
      "outputs": []
    },
    {
      "cell_type": "code",
      "metadata": {
        "id": "UU95PjQia41u",
        "colab_type": "code",
        "colab": {}
      },
      "source": [
        "from glob import glob\n",
        "import pandas as pd\n",
        "import numpy as np\n",
        "import seaborn as sns\n",
        "import category_encoders as ce\n",
        "import matplotlib.pyplot as plt\n",
        "import xgboost as xgb\n",
        "from xgboost import XGBRegressor, XGBClassifier\n",
        "import warnings\n",
        "import shap\n",
        "from sklearn.ensemble import RandomForestRegressor\n",
        "from sklearn.metrics import mean_squared_error, mean_squared_log_error\n",
        "from sklearn.metrics import roc_auc_score, r2_score\n",
        "from sklearn.pipeline import make_pipeline\n",
        "from sklearn.model_selection import cross_val_score, validation_curve\n",
        "from sklearn.model_selection import RandomizedSearchCV,  train_test_split\n",
        "from sklearn.tree import DecisionTreeRegressor\n",
        "from scipy.stats import randint, uniform\n",
        "from sklearn.impute import SimpleImputer\n",
        "import eli5\n",
        "from eli5.sklearn import PermutationImportance\n",
        "from pdpbox.pdp import pdp_isolate, pdp_plot, pdp_interact, pdp_interact_plot\n",
        "\n",
        "\n",
        "def rmsle(y_true, y_pred):\n",
        "    return np.sqrt(mean_squared_log_error(y_true, y_pred))\n",
        "def rmse(y_true, y_pred):\n",
        "    return np.sqrt(mean_squared_error(y_true, y_pred))"
      ],
      "execution_count": 0,
      "outputs": []
    },
    {
      "cell_type": "code",
      "metadata": {
        "id": "9D45HatWnypa",
        "colab_type": "code",
        "colab": {}
      },
      "source": [
        "import pandas as pd\n",
        "import seaborn as sns"
      ],
      "execution_count": 0,
      "outputs": []
    },
    {
      "cell_type": "code",
      "metadata": {
        "id": "q-QF2dqgeyam",
        "colab_type": "code",
        "colab": {}
      },
      "source": [
        "# Code to read csv file into Colaboratory:\n",
        "!pip install -U -q PyDrive\n",
        "from pydrive.auth import GoogleAuth\n",
        "from pydrive.drive import GoogleDrive\n",
        "from google.colab import auth\n",
        "from oauth2client.client import GoogleCredentials\n",
        "# Authenticate and create the PyDrive client.\n",
        "auth.authenticate_user()\n",
        "gauth = GoogleAuth()\n",
        "gauth.credentials = GoogleCredentials.get_application_default()\n",
        "drive = GoogleDrive(gauth)"
      ],
      "execution_count": 0,
      "outputs": []
    },
    {
      "cell_type": "code",
      "metadata": {
        "id": "5tGP7dGhmlmR",
        "colab_type": "code",
        "colab": {
          "base_uri": "https://localhost:8080/",
          "height": 34
        },
        "outputId": "937f7e8d-5794-41d6-ce5f-565072864889"
      },
      "source": [
        "link = 'https://drive.google.com/open?id=1MvFD50qjGIOqDxVDrppEFMuxwBe901kG'\n",
        "fluff, id = link.split('=')\n",
        "print (id) # Verify that you have everything after '='"
      ],
      "execution_count": 5,
      "outputs": [
        {
          "output_type": "stream",
          "text": [
            "1MvFD50qjGIOqDxVDrppEFMuxwBe901kG\n"
          ],
          "name": "stdout"
        }
      ]
    },
    {
      "cell_type": "code",
      "metadata": {
        "id": "_s7I-1X_m6vG",
        "colab_type": "code",
        "colab": {}
      },
      "source": [
        "downloaded = drive.CreateFile({'id':id}) \n",
        "downloaded.GetContentFile('USvideos_modified.csv') "
      ],
      "execution_count": 0,
      "outputs": []
    },
    {
      "cell_type": "code",
      "metadata": {
        "id": "hGlh3PKGpVwF",
        "colab_type": "code",
        "colab": {
          "base_uri": "https://localhost:8080/",
          "height": 34
        },
        "outputId": "43202fee-e976-417d-c83c-cce1b5904a77"
      },
      "source": [
        "link = 'https://drive.google.com/open?id=1JsoohUBiyzW9LfdXnwbG5DcvNWrkS4CF'\n",
        "fluff, id = link.split('=')\n",
        "print (id) # Verify that you have everything after '='\n",
        "downloaded = drive.CreateFile({'id':id}) \n",
        "downloaded.GetContentFile('Trending CrowdSourced Classification.csv') "
      ],
      "execution_count": 7,
      "outputs": [
        {
          "output_type": "stream",
          "text": [
            "1JsoohUBiyzW9LfdXnwbG5DcvNWrkS4CF\n"
          ],
          "name": "stdout"
        }
      ]
    },
    {
      "cell_type": "code",
      "metadata": {
        "id": "kkphMvzwn9OK",
        "colab_type": "code",
        "outputId": "cebc3d83-4b9a-44fb-954b-c16c5f6510f3",
        "colab": {
          "base_uri": "https://localhost:8080/",
          "height": 513
        }
      },
      "source": [
        "df = pd.read_csv('USvideos_modified.csv')\n",
        "df.head()"
      ],
      "execution_count": 8,
      "outputs": [
        {
          "output_type": "execute_result",
          "data": {
            "text/html": [
              "<div>\n",
              "<style scoped>\n",
              "    .dataframe tbody tr th:only-of-type {\n",
              "        vertical-align: middle;\n",
              "    }\n",
              "\n",
              "    .dataframe tbody tr th {\n",
              "        vertical-align: top;\n",
              "    }\n",
              "\n",
              "    .dataframe thead th {\n",
              "        text-align: right;\n",
              "    }\n",
              "</style>\n",
              "<table border=\"1\" class=\"dataframe\">\n",
              "  <thead>\n",
              "    <tr style=\"text-align: right;\">\n",
              "      <th></th>\n",
              "      <th>video_id</th>\n",
              "      <th>last_trending_date</th>\n",
              "      <th>publish_date</th>\n",
              "      <th>publish_hour</th>\n",
              "      <th>category_id</th>\n",
              "      <th>channel_title</th>\n",
              "      <th>views</th>\n",
              "      <th>likes</th>\n",
              "      <th>dislikes</th>\n",
              "      <th>comment_count</th>\n",
              "      <th>comments_disabled</th>\n",
              "      <th>ratings_disabled</th>\n",
              "      <th>tag_appeared_in_title_count</th>\n",
              "      <th>tag_appeared_in_title</th>\n",
              "      <th>title</th>\n",
              "      <th>tags</th>\n",
              "      <th>description</th>\n",
              "      <th>trend_day_count</th>\n",
              "      <th>trend.publish.diff</th>\n",
              "      <th>trend_tag_highest</th>\n",
              "      <th>trend_tag_total</th>\n",
              "      <th>tags_count</th>\n",
              "      <th>subscriber</th>\n",
              "    </tr>\n",
              "  </thead>\n",
              "  <tbody>\n",
              "    <tr>\n",
              "      <th>0</th>\n",
              "      <td>2kyS6SvSYSE</td>\n",
              "      <td>2017-11-20</td>\n",
              "      <td>2017-11-13</td>\n",
              "      <td>17</td>\n",
              "      <td>22</td>\n",
              "      <td>CaseyNeistat</td>\n",
              "      <td>2564903</td>\n",
              "      <td>96321</td>\n",
              "      <td>7972</td>\n",
              "      <td>22149</td>\n",
              "      <td>False</td>\n",
              "      <td>False</td>\n",
              "      <td>0</td>\n",
              "      <td>False</td>\n",
              "      <td>WE WANT TO TALK ABOUT OUR MARRIAGE</td>\n",
              "      <td>SHANtell martin</td>\n",
              "      <td>SHANTELL'S CHANNEL - https://www.youtube.com/s...</td>\n",
              "      <td>7</td>\n",
              "      <td>7</td>\n",
              "      <td>2</td>\n",
              "      <td>2</td>\n",
              "      <td>1</td>\n",
              "      <td>9086142.0</td>\n",
              "    </tr>\n",
              "    <tr>\n",
              "      <th>1</th>\n",
              "      <td>1ZAPwfrtAFY</td>\n",
              "      <td>2017-11-20</td>\n",
              "      <td>2017-11-13</td>\n",
              "      <td>7</td>\n",
              "      <td>24</td>\n",
              "      <td>LastWeekTonight</td>\n",
              "      <td>6109402</td>\n",
              "      <td>151250</td>\n",
              "      <td>11508</td>\n",
              "      <td>19820</td>\n",
              "      <td>False</td>\n",
              "      <td>False</td>\n",
              "      <td>0</td>\n",
              "      <td>False</td>\n",
              "      <td>The Trump Presidency: Last Week Tonight with J...</td>\n",
              "      <td>last week tonight trump presidency|last week t...</td>\n",
              "      <td>One year after the presidential election, John...</td>\n",
              "      <td>7</td>\n",
              "      <td>7</td>\n",
              "      <td>65</td>\n",
              "      <td>69</td>\n",
              "      <td>4</td>\n",
              "      <td>5937292.0</td>\n",
              "    </tr>\n",
              "    <tr>\n",
              "      <th>2</th>\n",
              "      <td>5qpjK5DgCt4</td>\n",
              "      <td>2017-11-20</td>\n",
              "      <td>2017-11-12</td>\n",
              "      <td>19</td>\n",
              "      <td>23</td>\n",
              "      <td>Rudy Mancuso</td>\n",
              "      <td>5315471</td>\n",
              "      <td>187303</td>\n",
              "      <td>7278</td>\n",
              "      <td>9990</td>\n",
              "      <td>False</td>\n",
              "      <td>False</td>\n",
              "      <td>8</td>\n",
              "      <td>True</td>\n",
              "      <td>Racist Superman | Rudy Mancuso, King Bach &amp; Le...</td>\n",
              "      <td>racist superman|rudy|mancuso|king|bach|racist|...</td>\n",
              "      <td>WATCH MY PREVIOUS VIDEO ▶ \\n\\nSUBSCRIBE ► http...</td>\n",
              "      <td>7</td>\n",
              "      <td>8</td>\n",
              "      <td>68</td>\n",
              "      <td>426</td>\n",
              "      <td>23</td>\n",
              "      <td>4191209.0</td>\n",
              "    </tr>\n",
              "    <tr>\n",
              "      <th>3</th>\n",
              "      <td>puqaWrEC7tY</td>\n",
              "      <td>2017-11-20</td>\n",
              "      <td>2017-11-13</td>\n",
              "      <td>11</td>\n",
              "      <td>24</td>\n",
              "      <td>Good Mythical Morning</td>\n",
              "      <td>913268</td>\n",
              "      <td>16729</td>\n",
              "      <td>1386</td>\n",
              "      <td>2988</td>\n",
              "      <td>False</td>\n",
              "      <td>False</td>\n",
              "      <td>3</td>\n",
              "      <td>True</td>\n",
              "      <td>Nickelback Lyrics: Real or Fake?</td>\n",
              "      <td>rhett and link|gmm|good mythical morning|rhett...</td>\n",
              "      <td>Today we find out if Link is a Nickelback amat...</td>\n",
              "      <td>7</td>\n",
              "      <td>7</td>\n",
              "      <td>488</td>\n",
              "      <td>1246</td>\n",
              "      <td>28</td>\n",
              "      <td>13186408.0</td>\n",
              "    </tr>\n",
              "    <tr>\n",
              "      <th>4</th>\n",
              "      <td>d380meD0W0M</td>\n",
              "      <td>2017-11-19</td>\n",
              "      <td>2017-11-12</td>\n",
              "      <td>18</td>\n",
              "      <td>24</td>\n",
              "      <td>nigahiga</td>\n",
              "      <td>2819118</td>\n",
              "      <td>153395</td>\n",
              "      <td>2416</td>\n",
              "      <td>20573</td>\n",
              "      <td>False</td>\n",
              "      <td>False</td>\n",
              "      <td>1</td>\n",
              "      <td>True</td>\n",
              "      <td>I Dare You: GOING BALD!?</td>\n",
              "      <td>ryan|higa|higatv|nigahiga|i dare you|idy|rhpc|...</td>\n",
              "      <td>I know it's been a while since we did this sho...</td>\n",
              "      <td>6</td>\n",
              "      <td>7</td>\n",
              "      <td>488</td>\n",
              "      <td>1007</td>\n",
              "      <td>14</td>\n",
              "      <td>20563106.0</td>\n",
              "    </tr>\n",
              "  </tbody>\n",
              "</table>\n",
              "</div>"
            ],
            "text/plain": [
              "      video_id last_trending_date  ... tags_count  subscriber\n",
              "0  2kyS6SvSYSE         2017-11-20  ...          1   9086142.0\n",
              "1  1ZAPwfrtAFY         2017-11-20  ...          4   5937292.0\n",
              "2  5qpjK5DgCt4         2017-11-20  ...         23   4191209.0\n",
              "3  puqaWrEC7tY         2017-11-20  ...         28  13186408.0\n",
              "4  d380meD0W0M         2017-11-19  ...         14  20563106.0\n",
              "\n",
              "[5 rows x 23 columns]"
            ]
          },
          "metadata": {
            "tags": []
          },
          "execution_count": 8
        }
      ]
    },
    {
      "cell_type": "code",
      "metadata": {
        "id": "zVWq9pU1zxS4",
        "colab_type": "code",
        "colab": {
          "base_uri": "https://localhost:8080/",
          "height": 300
        },
        "outputId": "00e99995-31b3-421d-cc6c-0ab37f8745ae"
      },
      "source": [
        "sns.distplot(df['tags_count'])"
      ],
      "execution_count": 9,
      "outputs": [
        {
          "output_type": "execute_result",
          "data": {
            "text/plain": [
              "<matplotlib.axes._subplots.AxesSubplot at 0x7f427c9b3940>"
            ]
          },
          "metadata": {
            "tags": []
          },
          "execution_count": 9
        },
        {
          "output_type": "display_data",
          "data": {
            "image/png": "[encoded data removed]",
            "text/plain": [
              "<Figure size 432x288 with 1 Axes>"
            ]
          },
          "metadata": {
            "tags": []
          }
        }
      ]
    },
    {
      "cell_type": "code",
      "metadata": {
        "id": "w-9CetxQoNAy",
        "colab_type": "code",
        "colab": {
          "base_uri": "https://localhost:8080/",
          "height": 204
        },
        "outputId": "49d15673-926c-4199-fa66-948a46198a37"
      },
      "source": [
        "trend_class = pd.read_csv('Trending CrowdSourced Classification.csv')\n",
        "t_class = trend_class.drop(['Unnamed: 2','Unnamed: 3', 'Unnamed: 4', 'Unnamed: 5', 'Unnamed: 6'], axis=1)\n",
        "t_class = t_class.dropna()\n",
        "t_class = t_class.rename(columns={'channel': 'channel_title'})\n",
        "t_class.head()"
      ],
      "execution_count": 10,
      "outputs": [
        {
          "output_type": "execute_result",
          "data": {
            "text/html": [
              "<div>\n",
              "<style scoped>\n",
              "    .dataframe tbody tr th:only-of-type {\n",
              "        vertical-align: middle;\n",
              "    }\n",
              "\n",
              "    .dataframe tbody tr th {\n",
              "        vertical-align: top;\n",
              "    }\n",
              "\n",
              "    .dataframe thead th {\n",
              "        text-align: right;\n",
              "    }\n",
              "</style>\n",
              "<table border=\"1\" class=\"dataframe\">\n",
              "  <thead>\n",
              "    <tr style=\"text-align: right;\">\n",
              "      <th></th>\n",
              "      <th>channel_title</th>\n",
              "      <th>classification</th>\n",
              "    </tr>\n",
              "  </thead>\n",
              "  <tbody>\n",
              "    <tr>\n",
              "      <th>0</th>\n",
              "      <td>Saturday Night Live</td>\n",
              "      <td>TM</td>\n",
              "    </tr>\n",
              "    <tr>\n",
              "      <th>1</th>\n",
              "      <td>CrazyRussianHacker</td>\n",
              "      <td>YT</td>\n",
              "    </tr>\n",
              "    <tr>\n",
              "      <th>2</th>\n",
              "      <td>20th Century Fox</td>\n",
              "      <td>TR</td>\n",
              "    </tr>\n",
              "    <tr>\n",
              "      <th>3</th>\n",
              "      <td>Vox</td>\n",
              "      <td>TM</td>\n",
              "    </tr>\n",
              "    <tr>\n",
              "      <th>4</th>\n",
              "      <td>NFL</td>\n",
              "      <td>TM</td>\n",
              "    </tr>\n",
              "  </tbody>\n",
              "</table>\n",
              "</div>"
            ],
            "text/plain": [
              "         channel_title classification\n",
              "0  Saturday Night Live             TM\n",
              "1   CrazyRussianHacker             YT\n",
              "2     20th Century Fox             TR\n",
              "3                  Vox             TM\n",
              "4                  NFL             TM"
            ]
          },
          "metadata": {
            "tags": []
          },
          "execution_count": 10
        }
      ]
    },
    {
      "cell_type": "code",
      "metadata": {
        "id": "DsqXG32yF2nz",
        "colab_type": "code",
        "colab": {
          "base_uri": "https://localhost:8080/",
          "height": 136
        },
        "outputId": "a00a0587-33e1-4988-b52e-1f6987f87dae"
      },
      "source": [
        "t_class['classification'].value_counts()"
      ],
      "execution_count": 11,
      "outputs": [
        {
          "output_type": "execute_result",
          "data": {
            "text/plain": [
              "YT    812\n",
              "TM    465\n",
              "MU    409\n",
              "CV    255\n",
              "CO    170\n",
              "TR     74\n",
              "Name: classification, dtype: int64"
            ]
          },
          "metadata": {
            "tags": []
          },
          "execution_count": 11
        }
      ]
    },
    {
      "cell_type": "code",
      "metadata": {
        "id": "HCfLW60lF7XH",
        "colab_type": "code",
        "colab": {}
      },
      "source": [
        "youtuber = t_class[t_class['classification'] == 'YT']\n",
        "traditional_media = t_class[t_class['classification'] =='TM']"
      ],
      "execution_count": 0,
      "outputs": []
    },
    {
      "cell_type": "code",
      "metadata": {
        "id": "K5MtyQp3HnKv",
        "colab_type": "code",
        "colab": {}
      },
      "source": [
        "tm_and_yt = pd.concat([youtuber, traditional_media])"
      ],
      "execution_count": 0,
      "outputs": []
    },
    {
      "cell_type": "code",
      "metadata": {
        "id": "CWHvdeyWHz89",
        "colab_type": "code",
        "colab": {
          "base_uri": "https://localhost:8080/",
          "height": 68
        },
        "outputId": "591837c6-6c3d-4d79-f4e9-b1857d805f8d"
      },
      "source": [
        "tm_and_yt.shape\n",
        "tm_and_yt['classification'].value_counts()"
      ],
      "execution_count": 14,
      "outputs": [
        {
          "output_type": "execute_result",
          "data": {
            "text/plain": [
              "YT    812\n",
              "TM    465\n",
              "Name: classification, dtype: int64"
            ]
          },
          "metadata": {
            "tags": []
          },
          "execution_count": 14
        }
      ]
    },
    {
      "cell_type": "code",
      "metadata": {
        "id": "g0OjYR8_H6hH",
        "colab_type": "code",
        "colab": {}
      },
      "source": [
        "t_class = df.merge(tm_and_yt, how='left')\n",
        "# df_2.shape"
      ],
      "execution_count": 0,
      "outputs": []
    },
    {
      "cell_type": "code",
      "metadata": {
        "id": "o8stnalGIKcU",
        "colab_type": "code",
        "colab": {}
      },
      "source": [
        "# df_2.isnull().sum()"
      ],
      "execution_count": 0,
      "outputs": []
    },
    {
      "cell_type": "code",
      "metadata": {
        "id": "JJs3mBWt6Zb7",
        "colab_type": "code",
        "colab": {
          "base_uri": "https://localhost:8080/",
          "height": 34
        },
        "outputId": "1f585c68-c6ea-41e8-9d0e-a8acbe96b038"
      },
      "source": [
        "df = df.merge(t_class, how='left')\n",
        "df.shape"
      ],
      "execution_count": 17,
      "outputs": [
        {
          "output_type": "execute_result",
          "data": {
            "text/plain": [
              "(4547, 24)"
            ]
          },
          "metadata": {
            "tags": []
          },
          "execution_count": 17
        }
      ]
    },
    {
      "cell_type": "code",
      "metadata": {
        "id": "R2OA59BTXa4N",
        "colab_type": "code",
        "colab": {
          "base_uri": "https://localhost:8080/",
          "height": 241
        },
        "outputId": "9dc2587c-b48f-428f-8dce-dface9e2a731"
      },
      "source": [
        "df = df.drop(['video_id', 'last_trending_date', 'publish_date',\n",
        "              'title', 'tags', 'description'], axis=1)\n",
        "df.head()"
      ],
      "execution_count": 18,
      "outputs": [
        {
          "output_type": "execute_result",
          "data": {
            "text/html": [
              "<div>\n",
              "<style scoped>\n",
              "    .dataframe tbody tr th:only-of-type {\n",
              "        vertical-align: middle;\n",
              "    }\n",
              "\n",
              "    .dataframe tbody tr th {\n",
              "        vertical-align: top;\n",
              "    }\n",
              "\n",
              "    .dataframe thead th {\n",
              "        text-align: right;\n",
              "    }\n",
              "</style>\n",
              "<table border=\"1\" class=\"dataframe\">\n",
              "  <thead>\n",
              "    <tr style=\"text-align: right;\">\n",
              "      <th></th>\n",
              "      <th>publish_hour</th>\n",
              "      <th>category_id</th>\n",
              "      <th>channel_title</th>\n",
              "      <th>views</th>\n",
              "      <th>likes</th>\n",
              "      <th>dislikes</th>\n",
              "      <th>comment_count</th>\n",
              "      <th>comments_disabled</th>\n",
              "      <th>ratings_disabled</th>\n",
              "      <th>tag_appeared_in_title_count</th>\n",
              "      <th>tag_appeared_in_title</th>\n",
              "      <th>trend_day_count</th>\n",
              "      <th>trend.publish.diff</th>\n",
              "      <th>trend_tag_highest</th>\n",
              "      <th>trend_tag_total</th>\n",
              "      <th>tags_count</th>\n",
              "      <th>subscriber</th>\n",
              "      <th>classification</th>\n",
              "    </tr>\n",
              "  </thead>\n",
              "  <tbody>\n",
              "    <tr>\n",
              "      <th>0</th>\n",
              "      <td>17</td>\n",
              "      <td>22</td>\n",
              "      <td>CaseyNeistat</td>\n",
              "      <td>2564903</td>\n",
              "      <td>96321</td>\n",
              "      <td>7972</td>\n",
              "      <td>22149</td>\n",
              "      <td>False</td>\n",
              "      <td>False</td>\n",
              "      <td>0</td>\n",
              "      <td>False</td>\n",
              "      <td>7</td>\n",
              "      <td>7</td>\n",
              "      <td>2</td>\n",
              "      <td>2</td>\n",
              "      <td>1</td>\n",
              "      <td>9086142.0</td>\n",
              "      <td>YT</td>\n",
              "    </tr>\n",
              "    <tr>\n",
              "      <th>1</th>\n",
              "      <td>7</td>\n",
              "      <td>24</td>\n",
              "      <td>LastWeekTonight</td>\n",
              "      <td>6109402</td>\n",
              "      <td>151250</td>\n",
              "      <td>11508</td>\n",
              "      <td>19820</td>\n",
              "      <td>False</td>\n",
              "      <td>False</td>\n",
              "      <td>0</td>\n",
              "      <td>False</td>\n",
              "      <td>7</td>\n",
              "      <td>7</td>\n",
              "      <td>65</td>\n",
              "      <td>69</td>\n",
              "      <td>4</td>\n",
              "      <td>5937292.0</td>\n",
              "      <td>TM</td>\n",
              "    </tr>\n",
              "    <tr>\n",
              "      <th>2</th>\n",
              "      <td>19</td>\n",
              "      <td>23</td>\n",
              "      <td>Rudy Mancuso</td>\n",
              "      <td>5315471</td>\n",
              "      <td>187303</td>\n",
              "      <td>7278</td>\n",
              "      <td>9990</td>\n",
              "      <td>False</td>\n",
              "      <td>False</td>\n",
              "      <td>8</td>\n",
              "      <td>True</td>\n",
              "      <td>7</td>\n",
              "      <td>8</td>\n",
              "      <td>68</td>\n",
              "      <td>426</td>\n",
              "      <td>23</td>\n",
              "      <td>4191209.0</td>\n",
              "      <td>YT</td>\n",
              "    </tr>\n",
              "    <tr>\n",
              "      <th>3</th>\n",
              "      <td>11</td>\n",
              "      <td>24</td>\n",
              "      <td>Good Mythical Morning</td>\n",
              "      <td>913268</td>\n",
              "      <td>16729</td>\n",
              "      <td>1386</td>\n",
              "      <td>2988</td>\n",
              "      <td>False</td>\n",
              "      <td>False</td>\n",
              "      <td>3</td>\n",
              "      <td>True</td>\n",
              "      <td>7</td>\n",
              "      <td>7</td>\n",
              "      <td>488</td>\n",
              "      <td>1246</td>\n",
              "      <td>28</td>\n",
              "      <td>13186408.0</td>\n",
              "      <td>YT</td>\n",
              "    </tr>\n",
              "    <tr>\n",
              "      <th>4</th>\n",
              "      <td>18</td>\n",
              "      <td>24</td>\n",
              "      <td>nigahiga</td>\n",
              "      <td>2819118</td>\n",
              "      <td>153395</td>\n",
              "      <td>2416</td>\n",
              "      <td>20573</td>\n",
              "      <td>False</td>\n",
              "      <td>False</td>\n",
              "      <td>1</td>\n",
              "      <td>True</td>\n",
              "      <td>6</td>\n",
              "      <td>7</td>\n",
              "      <td>488</td>\n",
              "      <td>1007</td>\n",
              "      <td>14</td>\n",
              "      <td>20563106.0</td>\n",
              "      <td>YT</td>\n",
              "    </tr>\n",
              "  </tbody>\n",
              "</table>\n",
              "</div>"
            ],
            "text/plain": [
              "   publish_hour  category_id  ...  subscriber  classification\n",
              "0            17           22  ...   9086142.0              YT\n",
              "1             7           24  ...   5937292.0              TM\n",
              "2            19           23  ...   4191209.0              YT\n",
              "3            11           24  ...  13186408.0              YT\n",
              "4            18           24  ...  20563106.0              YT\n",
              "\n",
              "[5 rows x 18 columns]"
            ]
          },
          "metadata": {
            "tags": []
          },
          "execution_count": 18
        }
      ]
    },
    {
      "cell_type": "code",
      "metadata": {
        "id": "peJhbQOC6hHH",
        "colab_type": "code",
        "colab": {
          "base_uri": "https://localhost:8080/",
          "height": 117
        },
        "outputId": "8af23a4f-4d94-47d0-cd4d-89b44aa14cf0"
      },
      "source": [
        "print(df.shape)\n",
        "df.head(1)"
      ],
      "execution_count": 19,
      "outputs": [
        {
          "output_type": "stream",
          "text": [
            "(4547, 18)\n"
          ],
          "name": "stdout"
        },
        {
          "output_type": "execute_result",
          "data": {
            "text/html": [
              "<div>\n",
              "<style scoped>\n",
              "    .dataframe tbody tr th:only-of-type {\n",
              "        vertical-align: middle;\n",
              "    }\n",
              "\n",
              "    .dataframe tbody tr th {\n",
              "        vertical-align: top;\n",
              "    }\n",
              "\n",
              "    .dataframe thead th {\n",
              "        text-align: right;\n",
              "    }\n",
              "</style>\n",
              "<table border=\"1\" class=\"dataframe\">\n",
              "  <thead>\n",
              "    <tr style=\"text-align: right;\">\n",
              "      <th></th>\n",
              "      <th>publish_hour</th>\n",
              "      <th>category_id</th>\n",
              "      <th>channel_title</th>\n",
              "      <th>views</th>\n",
              "      <th>likes</th>\n",
              "      <th>dislikes</th>\n",
              "      <th>comment_count</th>\n",
              "      <th>comments_disabled</th>\n",
              "      <th>ratings_disabled</th>\n",
              "      <th>tag_appeared_in_title_count</th>\n",
              "      <th>tag_appeared_in_title</th>\n",
              "      <th>trend_day_count</th>\n",
              "      <th>trend.publish.diff</th>\n",
              "      <th>trend_tag_highest</th>\n",
              "      <th>trend_tag_total</th>\n",
              "      <th>tags_count</th>\n",
              "      <th>subscriber</th>\n",
              "      <th>classification</th>\n",
              "    </tr>\n",
              "  </thead>\n",
              "  <tbody>\n",
              "    <tr>\n",
              "      <th>0</th>\n",
              "      <td>17</td>\n",
              "      <td>22</td>\n",
              "      <td>CaseyNeistat</td>\n",
              "      <td>2564903</td>\n",
              "      <td>96321</td>\n",
              "      <td>7972</td>\n",
              "      <td>22149</td>\n",
              "      <td>False</td>\n",
              "      <td>False</td>\n",
              "      <td>0</td>\n",
              "      <td>False</td>\n",
              "      <td>7</td>\n",
              "      <td>7</td>\n",
              "      <td>2</td>\n",
              "      <td>2</td>\n",
              "      <td>1</td>\n",
              "      <td>9086142.0</td>\n",
              "      <td>YT</td>\n",
              "    </tr>\n",
              "  </tbody>\n",
              "</table>\n",
              "</div>"
            ],
            "text/plain": [
              "   publish_hour  category_id  ... subscriber  classification\n",
              "0            17           22  ...  9086142.0              YT\n",
              "\n",
              "[1 rows x 18 columns]"
            ]
          },
          "metadata": {
            "tags": []
          },
          "execution_count": 19
        }
      ]
    },
    {
      "cell_type": "code",
      "metadata": {
        "colab_type": "code",
        "outputId": "3aef5d5f-25d3-45db-bad6-2fb5196caa34",
        "id": "wc8SaF63YIUK",
        "colab": {
          "base_uri": "https://localhost:8080/",
          "height": 34
        }
      },
      "source": [
        "channels = df['channel_title'].unique()\n",
        "len(channels)"
      ],
      "execution_count": 20,
      "outputs": [
        {
          "output_type": "execute_result",
          "data": {
            "text/plain": [
              "1905"
            ]
          },
          "metadata": {
            "tags": []
          },
          "execution_count": 20
        }
      ]
    },
    {
      "cell_type": "code",
      "metadata": {
        "id": "70hWjFV1CdMK",
        "colab_type": "code",
        "colab": {
          "base_uri": "https://localhost:8080/",
          "height": 34
        },
        "outputId": "f9cbae07-c94c-4f0d-b145-4a492f06723b"
      },
      "source": [
        "from sklearn.model_selection import train_test_split\n",
        "train_chan, test_chan = train_test_split(channels, random_state=42)\n",
        "\n",
        "train = df[df['channel_title'].isin(train_chan)]\n",
        "test = df[df['channel_title'].isin(test_chan)]\n",
        "assert(len(test) + len(train) == len(df))\n",
        "test.shape, train.shape, df.shape"
      ],
      "execution_count": 21,
      "outputs": [
        {
          "output_type": "execute_result",
          "data": {
            "text/plain": [
              "((1030, 18), (3517, 18), (4547, 18))"
            ]
          },
          "metadata": {
            "tags": []
          },
          "execution_count": 21
        }
      ]
    },
    {
      "cell_type": "code",
      "metadata": {
        "id": "_s4Feb-iSgWP",
        "colab_type": "code",
        "colab": {}
      },
      "source": [
        "df.dropna();"
      ],
      "execution_count": 0,
      "outputs": []
    },
    {
      "cell_type": "code",
      "metadata": {
        "id": "n7nt3N9kIdKm",
        "colab_type": "code",
        "colab": {
          "base_uri": "https://localhost:8080/",
          "height": 68
        },
        "outputId": "7bc8518f-8a3d-473d-8db1-c1181835f83b"
      },
      "source": [
        "#baseline\n",
        "df['classification'].value_counts(normalize=True)"
      ],
      "execution_count": 23,
      "outputs": [
        {
          "output_type": "execute_result",
          "data": {
            "text/plain": [
              "TM    0.512122\n",
              "YT    0.487878\n",
              "Name: classification, dtype: float64"
            ]
          },
          "metadata": {
            "tags": []
          },
          "execution_count": 23
        }
      ]
    },
    {
      "cell_type": "code",
      "metadata": {
        "id": "0u26OraU_kLG",
        "colab_type": "code",
        "colab": {}
      },
      "source": [
        "def wrangle(X):\n",
        "  \n",
        "#   #to datetime\n",
        "#   X['last_trending_date'] = pd.to_datetime(X['last_trending_date'], \n",
        "#                                            infer_datetime_format=True)\n",
        "#   X['publish_date'] = pd.to_datetime(X['publish_date'], \n",
        "#                                      infer_datetime_format=True)\n",
        "  \n",
        "  #engagement column\n",
        "  #note the +1's are to prevent dividing by 0 and ending the universe.\n",
        "  X['engagement_level'] = X['views'] / (X['likes'] + \n",
        "                                        X['dislikes'] + \n",
        "                                        X['comment_count'] + 1)\n",
        "  #possitive reception\n",
        "  X['likes_perc'] = X['likes'] / (X['likes'] + \n",
        "                                  X['dislikes'] + 1)\n",
        "  \n",
        "  #hard engagement - How many comments are recieved vs likes/dislikes\n",
        "  X['comments/doots'] = X['comment_count'] / (X['likes'] + \n",
        "                                             X['dislikes'] + 1)\n",
        "  \n",
        "  X = X.dropna()\n",
        "  return(X)\n",
        "\n",
        "wrangled_df = wrangle(df)\n",
        "test = wrangle(test)\n",
        "train = wrangle(train)"
      ],
      "execution_count": 0,
      "outputs": []
    },
    {
      "cell_type": "code",
      "metadata": {
        "id": "-a28wvIkKJ8x",
        "colab_type": "code",
        "colab": {
          "base_uri": "https://localhost:8080/",
          "height": 241
        },
        "outputId": "3fae99d3-81d2-4cd3-e0b4-8dfd122191d5"
      },
      "source": [
        "wrangled_df.head()"
      ],
      "execution_count": 25,
      "outputs": [
        {
          "output_type": "execute_result",
          "data": {
            "text/html": [
              "<div>\n",
              "<style scoped>\n",
              "    .dataframe tbody tr th:only-of-type {\n",
              "        vertical-align: middle;\n",
              "    }\n",
              "\n",
              "    .dataframe tbody tr th {\n",
              "        vertical-align: top;\n",
              "    }\n",
              "\n",
              "    .dataframe thead th {\n",
              "        text-align: right;\n",
              "    }\n",
              "</style>\n",
              "<table border=\"1\" class=\"dataframe\">\n",
              "  <thead>\n",
              "    <tr style=\"text-align: right;\">\n",
              "      <th></th>\n",
              "      <th>publish_hour</th>\n",
              "      <th>category_id</th>\n",
              "      <th>channel_title</th>\n",
              "      <th>views</th>\n",
              "      <th>likes</th>\n",
              "      <th>dislikes</th>\n",
              "      <th>comment_count</th>\n",
              "      <th>comments_disabled</th>\n",
              "      <th>ratings_disabled</th>\n",
              "      <th>tag_appeared_in_title_count</th>\n",
              "      <th>tag_appeared_in_title</th>\n",
              "      <th>trend_day_count</th>\n",
              "      <th>trend.publish.diff</th>\n",
              "      <th>trend_tag_highest</th>\n",
              "      <th>trend_tag_total</th>\n",
              "      <th>tags_count</th>\n",
              "      <th>subscriber</th>\n",
              "      <th>classification</th>\n",
              "      <th>engagement_level</th>\n",
              "      <th>likes_perc</th>\n",
              "      <th>comments/doots</th>\n",
              "    </tr>\n",
              "  </thead>\n",
              "  <tbody>\n",
              "    <tr>\n",
              "      <th>0</th>\n",
              "      <td>17</td>\n",
              "      <td>22</td>\n",
              "      <td>CaseyNeistat</td>\n",
              "      <td>2564903</td>\n",
              "      <td>96321</td>\n",
              "      <td>7972</td>\n",
              "      <td>22149</td>\n",
              "      <td>False</td>\n",
              "      <td>False</td>\n",
              "      <td>0</td>\n",
              "      <td>False</td>\n",
              "      <td>7</td>\n",
              "      <td>7</td>\n",
              "      <td>2</td>\n",
              "      <td>2</td>\n",
              "      <td>1</td>\n",
              "      <td>9086142.0</td>\n",
              "      <td>YT</td>\n",
              "      <td>20.285053</td>\n",
              "      <td>0.923553</td>\n",
              "      <td>0.212371</td>\n",
              "    </tr>\n",
              "    <tr>\n",
              "      <th>1</th>\n",
              "      <td>7</td>\n",
              "      <td>24</td>\n",
              "      <td>LastWeekTonight</td>\n",
              "      <td>6109402</td>\n",
              "      <td>151250</td>\n",
              "      <td>11508</td>\n",
              "      <td>19820</td>\n",
              "      <td>False</td>\n",
              "      <td>False</td>\n",
              "      <td>0</td>\n",
              "      <td>False</td>\n",
              "      <td>7</td>\n",
              "      <td>7</td>\n",
              "      <td>65</td>\n",
              "      <td>69</td>\n",
              "      <td>4</td>\n",
              "      <td>5937292.0</td>\n",
              "      <td>TM</td>\n",
              "      <td>33.461691</td>\n",
              "      <td>0.929288</td>\n",
              "      <td>0.121775</td>\n",
              "    </tr>\n",
              "    <tr>\n",
              "      <th>2</th>\n",
              "      <td>19</td>\n",
              "      <td>23</td>\n",
              "      <td>Rudy Mancuso</td>\n",
              "      <td>5315471</td>\n",
              "      <td>187303</td>\n",
              "      <td>7278</td>\n",
              "      <td>9990</td>\n",
              "      <td>False</td>\n",
              "      <td>False</td>\n",
              "      <td>8</td>\n",
              "      <td>True</td>\n",
              "      <td>7</td>\n",
              "      <td>8</td>\n",
              "      <td>68</td>\n",
              "      <td>426</td>\n",
              "      <td>23</td>\n",
              "      <td>4191209.0</td>\n",
              "      <td>YT</td>\n",
              "      <td>25.983375</td>\n",
              "      <td>0.962592</td>\n",
              "      <td>0.051341</td>\n",
              "    </tr>\n",
              "    <tr>\n",
              "      <th>3</th>\n",
              "      <td>11</td>\n",
              "      <td>24</td>\n",
              "      <td>Good Mythical Morning</td>\n",
              "      <td>913268</td>\n",
              "      <td>16729</td>\n",
              "      <td>1386</td>\n",
              "      <td>2988</td>\n",
              "      <td>False</td>\n",
              "      <td>False</td>\n",
              "      <td>3</td>\n",
              "      <td>True</td>\n",
              "      <td>7</td>\n",
              "      <td>7</td>\n",
              "      <td>488</td>\n",
              "      <td>1246</td>\n",
              "      <td>28</td>\n",
              "      <td>13186408.0</td>\n",
              "      <td>YT</td>\n",
              "      <td>43.274640</td>\n",
              "      <td>0.923438</td>\n",
              "      <td>0.164937</td>\n",
              "    </tr>\n",
              "    <tr>\n",
              "      <th>4</th>\n",
              "      <td>18</td>\n",
              "      <td>24</td>\n",
              "      <td>nigahiga</td>\n",
              "      <td>2819118</td>\n",
              "      <td>153395</td>\n",
              "      <td>2416</td>\n",
              "      <td>20573</td>\n",
              "      <td>False</td>\n",
              "      <td>False</td>\n",
              "      <td>1</td>\n",
              "      <td>True</td>\n",
              "      <td>6</td>\n",
              "      <td>7</td>\n",
              "      <td>488</td>\n",
              "      <td>1007</td>\n",
              "      <td>14</td>\n",
              "      <td>20563106.0</td>\n",
              "      <td>YT</td>\n",
              "      <td>15.982754</td>\n",
              "      <td>0.984488</td>\n",
              "      <td>0.132037</td>\n",
              "    </tr>\n",
              "  </tbody>\n",
              "</table>\n",
              "</div>"
            ],
            "text/plain": [
              "   publish_hour  category_id  ... likes_perc  comments/doots\n",
              "0            17           22  ...   0.923553        0.212371\n",
              "1             7           24  ...   0.929288        0.121775\n",
              "2            19           23  ...   0.962592        0.051341\n",
              "3            11           24  ...   0.923438        0.164937\n",
              "4            18           24  ...   0.984488        0.132037\n",
              "\n",
              "[5 rows x 21 columns]"
            ]
          },
          "metadata": {
            "tags": []
          },
          "execution_count": 25
        }
      ]
    },
    {
      "cell_type": "markdown",
      "metadata": {
        "id": "IW01pUnqNMEq",
        "colab_type": "text"
      },
      "source": [
        "#Model Time!"
      ]
    },
    {
      "cell_type": "code",
      "metadata": {
        "id": "ILxSB7gcNOPm",
        "colab_type": "code",
        "colab": {}
      },
      "source": [
        "target = 'classification'\n",
        "y_train = train[target]\n",
        "y_test = test[target]"
      ],
      "execution_count": 0,
      "outputs": []
    },
    {
      "cell_type": "code",
      "metadata": {
        "id": "W9qnHMfpPu26",
        "colab_type": "code",
        "colab": {
          "base_uri": "https://localhost:8080/",
          "height": 204
        },
        "outputId": "eade09b5-50df-4bd4-9e36-7e334bb03a4e"
      },
      "source": [
        "!pip install category_encoders"
      ],
      "execution_count": 27,
      "outputs": [
        {
          "output_type": "stream",
          "text": [
            "Requirement already satisfied: category_encoders in /usr/local/lib/python3.6/dist-packages (2.0.0)\n",
            "Requirement already satisfied: scikit-learn>=0.20.0 in /usr/local/lib/python3.6/dist-packages (from category_encoders) (0.21.2)\n",
            "Requirement already satisfied: pandas>=0.21.1 in /usr/local/lib/python3.6/dist-packages (from category_encoders) (0.24.2)\n",
            "Requirement already satisfied: scipy>=0.19.0 in /usr/local/lib/python3.6/dist-packages (from category_encoders) (1.3.0)\n",
            "Requirement already satisfied: numpy>=1.11.3 in /usr/local/lib/python3.6/dist-packages (from category_encoders) (1.16.4)\n",
            "Requirement already satisfied: patsy>=0.4.1 in /usr/local/lib/python3.6/dist-packages (from category_encoders) (0.5.1)\n",
            "Requirement already satisfied: statsmodels>=0.6.1 in /usr/local/lib/python3.6/dist-packages (from category_encoders) (0.10.0)\n",
            "Requirement already satisfied: joblib>=0.11 in /usr/local/lib/python3.6/dist-packages (from scikit-learn>=0.20.0->category_encoders) (0.13.2)\n",
            "Requirement already satisfied: pytz>=2011k in /usr/local/lib/python3.6/dist-packages (from pandas>=0.21.1->category_encoders) (2018.9)\n",
            "Requirement already satisfied: python-dateutil>=2.5.0 in /usr/local/lib/python3.6/dist-packages (from pandas>=0.21.1->category_encoders) (2.5.3)\n",
            "Requirement already satisfied: six in /usr/local/lib/python3.6/dist-packages (from patsy>=0.4.1->category_encoders) (1.12.0)\n"
          ],
          "name": "stdout"
        }
      ]
    },
    {
      "cell_type": "code",
      "metadata": {
        "id": "Na6h9ZluOAv-",
        "colab_type": "code",
        "colab": {}
      },
      "source": [
        "from xgboost import XGBClassifier\n",
        "from sklearn.metrics import accuracy_score\n",
        "from sklearn.pipeline import make_pipeline\n",
        "import category_encoders as ce\n",
        "from sklearn.impute import SimpleImputer\n",
        "from sklearn.ensemble import RandomForestClassifier"
      ],
      "execution_count": 0,
      "outputs": []
    },
    {
      "cell_type": "code",
      "metadata": {
        "id": "Wyp9GY8rSAPI",
        "colab_type": "code",
        "colab": {}
      },
      "source": [
        "train = train.dropna()\n",
        "df.dropna()\n",
        "test = test.dropna();"
      ],
      "execution_count": 0,
      "outputs": []
    },
    {
      "cell_type": "code",
      "metadata": {
        "id": "3z9Rklr7O_UY",
        "colab_type": "code",
        "colab": {}
      },
      "source": [
        "# The 'show_made_flag' column is the target\n",
        "target = 'classification'\n",
        "\n",
        "# Get a dataframe with all train columns except the target\n",
        "train_features = train.drop(columns=[target])\n",
        "\n",
        "# Get a list of the numeric features\n",
        "numeric_features = train_features.select_dtypes(include='number').columns.tolist()\n",
        "\n",
        "# Get a series with the cardinality of the nonnumeric features\n",
        "cardinality = train_features.select_dtypes(exclude='number').nunique()\n",
        "\n",
        "# Get a list of all categorical features with cardinality <= 50\n",
        "categorical_features = cardinality[cardinality <= 50].index.tolist()\n",
        "\n",
        "# Combine the lists \n",
        "features = numeric_features + categorical_features\n",
        "\n",
        "# Arrange data into X features matrix and y target vector \n",
        "X_train = train[features]\n",
        "y_train = train[target]\n",
        "X_test = test[features]\n",
        "y_test = test[target]\n"
      ],
      "execution_count": 0,
      "outputs": []
    },
    {
      "cell_type": "code",
      "metadata": {
        "id": "Bco4Pw44DCJE",
        "colab_type": "code",
        "colab": {
          "base_uri": "https://localhost:8080/",
          "height": 34
        },
        "outputId": "2fad18cb-4671-4d41-a4fc-d1f888e2d8d1"
      },
      "source": [
        "categorical_features"
      ],
      "execution_count": 31,
      "outputs": [
        {
          "output_type": "execute_result",
          "data": {
            "text/html": [
              "['comments_disabled', 'ratings_disabled', 'tag_appeared_in_title']"
            ],
            "text/plain": [
              "['comments_disabled', 'ratings_disabled', 'tag_appeared_in_title']"
            ]
          },
          "metadata": {
            "tags": []
          },
          "execution_count": 31
        }
      ]
    },
    {
      "cell_type": "code",
      "metadata": {
        "id": "OSwrNmKSRfA_",
        "colab_type": "code",
        "colab": {
          "base_uri": "https://localhost:8080/",
          "height": 391
        },
        "outputId": "f5dbad64-6d4c-4843-ec59-bafb257dc778"
      },
      "source": [
        "df.isnull().sum()"
      ],
      "execution_count": 32,
      "outputs": [
        {
          "output_type": "execute_result",
          "data": {
            "text/plain": [
              "publish_hour                      0\n",
              "category_id                       0\n",
              "channel_title                     0\n",
              "views                             0\n",
              "likes                             0\n",
              "dislikes                          0\n",
              "comment_count                     0\n",
              "comments_disabled                 0\n",
              "ratings_disabled                  0\n",
              "tag_appeared_in_title_count       0\n",
              "tag_appeared_in_title             0\n",
              "trend_day_count                   0\n",
              "trend.publish.diff                0\n",
              "trend_tag_highest                 0\n",
              "trend_tag_total                   0\n",
              "tags_count                        0\n",
              "subscriber                       22\n",
              "classification                 1206\n",
              "engagement_level                  0\n",
              "likes_perc                        0\n",
              "comments/doots                    0\n",
              "dtype: int64"
            ]
          },
          "metadata": {
            "tags": []
          },
          "execution_count": 32
        }
      ]
    },
    {
      "cell_type": "code",
      "metadata": {
        "id": "czTvi5AIQLjR",
        "colab_type": "code",
        "colab": {
          "base_uri": "https://localhost:8080/",
          "height": 68
        },
        "outputId": "90425843-4c15-4349-cbe8-6db302f62ac5"
      },
      "source": [
        "y_train = train['classification']\n",
        "y_train.value_counts(normalize=True)"
      ],
      "execution_count": 33,
      "outputs": [
        {
          "output_type": "execute_result",
          "data": {
            "text/plain": [
              "TM    0.525773\n",
              "YT    0.474227\n",
              "Name: classification, dtype: float64"
            ]
          },
          "metadata": {
            "tags": []
          },
          "execution_count": 33
        }
      ]
    },
    {
      "cell_type": "code",
      "metadata": {
        "id": "X0wc1hKhQdZa",
        "colab_type": "code",
        "colab": {}
      },
      "source": [
        "majority_class = y_train.mode()[0]\n",
        "y_pred = [majority_class] * len(y_train)"
      ],
      "execution_count": 0,
      "outputs": []
    },
    {
      "cell_type": "code",
      "metadata": {
        "id": "EpH7Ss6jSl7F",
        "colab_type": "code",
        "colab": {}
      },
      "source": [
        "X_train.dropna();\n",
        "y_train.dropna();"
      ],
      "execution_count": 0,
      "outputs": []
    },
    {
      "cell_type": "code",
      "metadata": {
        "id": "LSlZ6b3bOD1S",
        "colab_type": "code",
        "colab": {}
      },
      "source": [
        "\n",
        "#Notice the Ordinal Encoding\n",
        "pipeline = make_pipeline(\n",
        "    ce.OrdinalEncoder(), \n",
        "    SimpleImputer(strategy='median'), \n",
        "    RandomForestClassifier(n_estimators=1000, random_state=42, n_jobs=-1)\n",
        ")\n",
        "\n",
        "# Fit on train, score on val, predict on test\n",
        "pipeline.fit(X_train, y_train);"
      ],
      "execution_count": 0,
      "outputs": []
    },
    {
      "cell_type": "code",
      "metadata": {
        "id": "Z1Bth-jTSi9z",
        "colab_type": "code",
        "colab": {
          "base_uri": "https://localhost:8080/",
          "height": 34
        },
        "outputId": "985520a4-63b7-4cb4-f479-911a8821cb87"
      },
      "source": [
        "pipeline.score(X_test, y_test)"
      ],
      "execution_count": 37,
      "outputs": [
        {
          "output_type": "execute_result",
          "data": {
            "text/plain": [
              "0.7935393258426966"
            ]
          },
          "metadata": {
            "tags": []
          },
          "execution_count": 37
        }
      ]
    },
    {
      "cell_type": "code",
      "metadata": {
        "id": "lpmsvJbFTrsm",
        "colab_type": "code",
        "colab": {}
      },
      "source": [
        "import matplotlib.pyplot as plt"
      ],
      "execution_count": 0,
      "outputs": []
    },
    {
      "cell_type": "code",
      "metadata": {
        "id": "TS7sCjkyToeB",
        "colab_type": "code",
        "colab": {
          "base_uri": "https://localhost:8080/",
          "height": 336
        },
        "outputId": "aca53f1e-1478-4d6f-eb1e-ad01f8d53bc0"
      },
      "source": [
        "# Get feature importances\n",
        "rf = pipeline.named_steps['randomforestclassifier']\n",
        "importances = pd.Series(rf.feature_importances_, X_train.columns)\n",
        "\n",
        "# Plot top 20 feature importances\n",
        "n = 10\n",
        "plt.figure(figsize=(10,n/2))\n",
        "plt.title(f'Top {n} features')\n",
        "importances.sort_values()[-n:].plot.barh(color='grey');"
      ],
      "execution_count": 43,
      "outputs": [
        {
          "output_type": "display_data",
          "data": {
            "image/png": "[encoded data removed]",
            "text/plain": [
              "<Figure size 720x360 with 1 Axes>"
            ]
          },
          "metadata": {
            "tags": []
          }
        }
      ]
    },
    {
      "cell_type": "code",
      "metadata": {
        "id": "nH9mtKGnTt5x",
        "colab_type": "code",
        "colab": {}
      },
      "source": [
        "from sklearn.utils.multiclass import unique_labels\n",
        "from sklearn.metrics import confusion_matrix\n",
        "def plot_confusion_matrix(y_true, y_pred):\n",
        "  labels = unique_labels(y_true)\n",
        "  columns = [f'predicted {label}' for label in labels]\n",
        "  index =[f'Actual {label}' for label in labels]\n",
        "  table = pd.DataFrame(confusion_matrix(y_true, y_pred),\n",
        "              columns=columns, index=index)\n",
        "  return sns.heatmap(table, annot=True, fmt='d')"
      ],
      "execution_count": 0,
      "outputs": []
    },
    {
      "cell_type": "code",
      "metadata": {
        "id": "d-wS0aXkT9Zl",
        "colab_type": "code",
        "colab": {
          "base_uri": "https://localhost:8080/",
          "height": 269
        },
        "outputId": "216a747b-9495-4e56-c5fd-8710d38ef01e"
      },
      "source": [
        "y_pred = pipeline.predict(X_test)\n",
        "plot_confusion_matrix(y_test, y_pred);"
      ],
      "execution_count": 41,
      "outputs": [
        {
          "output_type": "display_data",
          "data": {
            "image/png": "[encoded data removed]",
            "text/plain": [
              "<Figure size 432x288 with 2 Axes>"
            ]
          },
          "metadata": {
            "tags": []
          }
        }
      ]
    },
    {
      "cell_type": "code",
      "metadata": {
        "id": "VuIDEiPpCUcX",
        "colab_type": "code",
        "colab": {
          "base_uri": "https://localhost:8080/",
          "height": 170
        },
        "outputId": "70ddad75-f95c-4f2a-9689-297fd0990f6b"
      },
      "source": [
        "from sklearn.metrics import classification_report\n",
        "y_pred = pipeline.predict(X_test)\n",
        "print(classification_report(y_test, y_pred))"
      ],
      "execution_count": 44,
      "outputs": [
        {
          "output_type": "stream",
          "text": [
            "              precision    recall  f1-score   support\n",
            "\n",
            "          TM       0.76      0.81      0.78       329\n",
            "          YT       0.82      0.78      0.80       383\n",
            "\n",
            "    accuracy                           0.79       712\n",
            "   macro avg       0.79      0.79      0.79       712\n",
            "weighted avg       0.80      0.79      0.79       712\n",
            "\n"
          ],
          "name": "stdout"
        }
      ]
    }
  ]
}