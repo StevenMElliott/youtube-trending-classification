{
  "nbformat": 4,
  "nbformat_minor": 0,
  "metadata": {
    "colab": {
      "name": "YouTube Trending.ipynb",
      "provenance": [],
      "collapsed_sections": []
    },
    "kernelspec": {
      "name": "python3",
      "display_name": "Python 3"
    }
  },
  "cells": [
    {
      "cell_type": "markdown",
      "metadata": {
        "id": "L0s3ZtpvSigx"
      },
      "source": [
        "#Import statements"
      ]
    },
    {
      "cell_type": "code",
      "metadata": {
        "id": "euPyEfpteR4B"
      },
      "source": [
        "!pip install category_encoders"
      ],
      "execution_count": null,
      "outputs": []
    },
    {
      "cell_type": "code",
      "metadata": {
        "id": "dA7CTBAZJzSh"
      },
      "source": [
        "#import statements\n",
        "\n",
        "#wrangling\n",
        "import pandas as pd\n",
        "import numpy as np\n",
        "from sklearn.model_selection import train_test_split\n",
        "\n",
        "#plotting\n",
        "import matplotlib.pyplot as plt\n",
        "import seaborn as sns\n",
        "\n",
        "#rf import statements\n",
        "from sklearn.pipeline import make_pipeline\n",
        "from sklearn.ensemble import RandomForestClassifier\n",
        "import category_encoders as ce\n",
        "from sklearn.impute import SimpleImputer\n",
        "\n",
        "#confusion matrix\n",
        "from sklearn.utils.multiclass import unique_labels\n",
        "from sklearn.metrics import confusion_matrix"
      ],
      "execution_count": null,
      "outputs": []
    },
    {
      "cell_type": "markdown",
      "metadata": {
        "id": "966rAj8MbX6q"
      },
      "source": [
        "#Wrangling"
      ]
    },
    {
      "cell_type": "code",
      "metadata": {
        "id": "_lG_JcoNKBpW"
      },
      "source": [
        "#import main dataset\n",
        "df = pd.read_csv('https://raw.githubusercontent.com/StevenMElliott/youtube-trending-classification/master/USvideos_modified.csv')\n",
        "\n",
        "#crowd sources channel classes\n",
        "channel_class = pd.read_csv('https://raw.githubusercontent.com/StevenMElliott/youtube-trending-classification/master/Trending%20CrowdSourced%20Classification.csv')\n",
        "channel_class = channel_class[['channel', 'classification']]\n",
        "\n",
        "#snag the two classes I want\n",
        "youtuber = channel_class[channel_class['classification'] == 'YT']\n",
        "traditional_media = channel_class[channel_class['classification'] == 'TM']\n",
        "channel_class = pd.concat([youtuber, traditional_media])\n",
        "\n",
        "#merge the datasets\n",
        "channel_class = channel_class.rename(columns={'channel': 'channel_title'})\n",
        "df = df.merge(channel_class, how=\"left\")\n",
        "\n",
        "#ensure there isn't channel split contamination\n",
        "channels = df['channel_title'].unique()\n",
        "train_chan, test_chan = train_test_split(channels, random_state=42)\n",
        "\n",
        "#train test split\n",
        "train = df[df['channel_title'].isin(train_chan)]\n",
        "test = df[df['channel_title'].isin(test_chan)]\n",
        "assert(len(test) + len(train) == len(df))\n"
      ],
      "execution_count": 3,
      "outputs": []
    },
    {
      "cell_type": "code",
      "metadata": {
        "id": "Vc3BZNgLcC_N"
      },
      "source": [
        "#Feature Engineering\n",
        "def wrangle(X):  \n",
        "  #engagement column\n",
        "  # note the +1's are to prevent dividing by 0 and ending the universe.\n",
        "  X['Engagement Per View'] =  (X['likes'] + \n",
        "                               X['dislikes'] + \n",
        "                               X['comment_count'] + 1) / X['views']\n",
        "  #possitive reception\n",
        "  X['Likes Percent'] = X['likes'] / (X['likes'] + \n",
        "                                  X['dislikes'] + 1)\n",
        "  \n",
        "  #hard engagement - How many comments are recieved vs likes/dislikes\n",
        "  X['Comments Per Click'] = X['comment_count'] / (X['likes'] + \n",
        "                                             X['dislikes'] + 1)\n",
        "  #Rename the columns\n",
        "  X = X.rename(columns={'publish_hour': 'Hour Published', \n",
        "                        'category_id': 'Category ID', \n",
        "                        'channel_title': 'Channel',\n",
        "                        'comment_count': 'Total Comments',\n",
        "                        'subscriber': 'Subcribers',\n",
        "                        'views': 'Views',\n",
        "                        'likes': 'Likes',\n",
        "                        'dislikes': 'Dislikes',\n",
        "                        'trend.publish.diff': 'Days Published Before Trending',\n",
        "                        'trend_tag_total': 'Sum of Trending #'})\n",
        "  \n",
        "  X = X.dropna()\n",
        "  return(X)\n",
        "\n",
        "df = wrangle(df)\n",
        "test = wrangle(test)\n",
        "train = wrangle(train)"
      ],
      "execution_count": 4,
      "outputs": []
    },
    {
      "cell_type": "markdown",
      "metadata": {
        "id": "IRWd4agfbNfR"
      },
      "source": [
        "# Modeling"
      ]
    },
    {
      "cell_type": "markdown",
      "metadata": {
        "id": "lij8rGG5bhtu"
      },
      "source": [
        "##Base Model"
      ]
    },
    {
      "cell_type": "code",
      "metadata": {
        "id": "z92svMA9bgHi",
        "outputId": "be191d72-ee22-4aef-cd01-4dae0af1230c",
        "colab": {
          "base_uri": "https://localhost:8080/"
        }
      },
      "source": [
        "#Every channel belongs to traditional media == 51% accurate\n",
        "df['classification'].value_counts(normalize=True)"
      ],
      "execution_count": 5,
      "outputs": [
        {
          "output_type": "execute_result",
          "data": {
            "text/plain": [
              "TM    0.510394\n",
              "YT    0.489606\n",
              "Name: classification, dtype: float64"
            ]
          },
          "metadata": {
            "tags": []
          },
          "execution_count": 5
        }
      ]
    },
    {
      "cell_type": "markdown",
      "metadata": {
        "id": "xxbmT8iecwS3"
      },
      "source": [
        "##Random Forest without feature selection"
      ]
    },
    {
      "cell_type": "code",
      "metadata": {
        "id": "v0Ue4gESbzHm"
      },
      "source": [
        "# The 'show_made_flag' column is the target\n",
        "target = 'classification'\n",
        "\n",
        "# Get a dataframe with all train columns except the target\n",
        "train_features = train.drop(columns=[target])\n",
        "\n",
        "# Get a list of the numeric features\n",
        "numeric_features = train_features.select_dtypes(include='number').columns.tolist()\n",
        "\n",
        "# Get a series with the cardinality of the nonnumeric features\n",
        "cardinality = train_features.select_dtypes(exclude='number').nunique()\n",
        "\n",
        "# Get a list of all categorical features with cardinality <= 5000\n",
        "categorical_features = cardinality[cardinality <= 5000].index.tolist()\n",
        "\n",
        "# Combine the lists \n",
        "features = numeric_features + categorical_features\n",
        "\n",
        "# Arrange data into X features matrix and y target vector \n",
        "X_train = train[features]\n",
        "y_train = train[target]\n",
        "X_test = test[features]\n",
        "y_test = test[target]\n"
      ],
      "execution_count": 6,
      "outputs": []
    },
    {
      "cell_type": "code",
      "metadata": {
        "id": "B_DpWtW9dJ1y",
        "outputId": "29b0d0b6-54ae-4451-a367-b34b3aba162b",
        "colab": {
          "base_uri": "https://localhost:8080/"
        }
      },
      "source": [
        "#make pipline\n",
        "pipeline = make_pipeline(\n",
        "    ce.OrdinalEncoder(), \n",
        "    SimpleImputer(strategy='median'), \n",
        "    RandomForestClassifier(n_estimators=1000, random_state=42, n_jobs=-1)\n",
        ")\n",
        "\n",
        "# Fit on train, score on val, predict on test\n",
        "pipeline.fit(X_train, y_train);\n",
        "\n",
        "#score pipeline before triming features\n",
        "pipeline.score(X_test, y_test)"
      ],
      "execution_count": 7,
      "outputs": [
        {
          "output_type": "execute_result",
          "data": {
            "text/plain": [
              "0.7467248908296943"
            ]
          },
          "metadata": {
            "tags": []
          },
          "execution_count": 7
        }
      ]
    },
    {
      "cell_type": "code",
      "metadata": {
        "id": "oz_kcrdSP9D9",
        "outputId": "5b63d69f-e8a9-484f-e2a2-9923bb7e81e9",
        "colab": {
          "base_uri": "https://localhost:8080/",
          "height": 281
        }
      },
      "source": [
        "def plot_confusion_matrix(y_true, y_pred):\n",
        "  labels = unique_labels(y_true)\n",
        "  columns = [f'Predicted {label}' for label in labels]\n",
        "  index =[f'Actual {label}' for label in labels]\n",
        "  table = pd.DataFrame(confusion_matrix(y_true, y_pred),\n",
        "              columns=columns, index=index)\n",
        "  return sns.heatmap(table, annot=True, fmt='d')\n",
        "\n",
        "y_pred = pipeline.predict(X_test)\n",
        "ax = plot_confusion_matrix(y_test, y_pred)\n",
        "\n",
        "ax.set_title('RF Confusion Matrix');"
      ],
      "execution_count": 8,
      "outputs": [
        {
          "output_type": "display_data",
          "data": {
            "image/png": "[encoded data removed]",
            "text/plain": [
              "<Figure size 432x288 with 2 Axes>"
            ]
          },
          "metadata": {
            "tags": [],
            "needs_background": "light"
          }
        }
      ]
    },
    {
      "cell_type": "markdown",
      "metadata": {
        "id": "G8kIt9FJOntp"
      },
      "source": [
        "## Random Forest after feature selection"
      ]
    },
    {
      "cell_type": "code",
      "metadata": {
        "id": "XDdoQBJwdTdZ",
        "outputId": "70f0ad29-8274-489b-d07b-195f33e26005",
        "colab": {
          "base_uri": "https://localhost:8080/",
          "height": 336
        }
      },
      "source": [
        "# Get feature importances for feature selection\n",
        "rf = pipeline.named_steps['randomforestclassifier']\n",
        "importances = pd.Series(rf.feature_importances_, X_train.columns)\n",
        "\n",
        "# Plot top 10 feature importances\n",
        "n = 10\n",
        "plt.figure(figsize=(10,n/2))\n",
        "plt.title(f'Top {n} Features')\n",
        "importances.sort_values()[-n:].plot.barh(color='grey');"
      ],
      "execution_count": 9,
      "outputs": [
        {
          "output_type": "display_data",
          "data": {
            "image/png": "[encoded data removed]",
            "text/plain": [
              "<Figure size 720x360 with 1 Axes>"
            ]
          },
          "metadata": {
            "tags": [],
            "needs_background": "light"
          }
        }
      ]
    },
    {
      "cell_type": "code",
      "metadata": {
        "id": "AWeiles2MPf3"
      },
      "source": [
        "def feature_selection(X):\n",
        "  X = X[['Engagement Per View', \n",
        "         'Likes Percent',\n",
        "         'Comments Per Click',\n",
        "         'Subcribers','Sum of Trending #',\n",
        "         'Days Published Before Trending',\n",
        "         'Total Comments',\n",
        "         'Hour Published',\n",
        "         'Category ID', \n",
        "         'Channel', \n",
        "         'Views', \n",
        "         'Likes', \n",
        "         'Dislikes',\n",
        "         'classification',\n",
        "         ]]\n",
        "  return X\n",
        "\n",
        "#select features\n",
        "test = feature_selection(test)\n",
        "train = feature_selection(train)"
      ],
      "execution_count": 10,
      "outputs": []
    },
    {
      "cell_type": "code",
      "metadata": {
        "id": "DaxHCZaEQkY_"
      },
      "source": [
        "# The 'show_made_flag' column is the target\n",
        "target = 'classification'\n",
        "\n",
        "# Get a dataframe with all train columns except the target\n",
        "train_features = train.drop(columns=[target])\n",
        "\n",
        "# Get a list of the numeric features\n",
        "numeric_features = train_features.select_dtypes(include='number').columns.tolist()\n",
        "\n",
        "# Get a series with the cardinality of the nonnumeric features\n",
        "cardinality = train_features.select_dtypes(exclude='number').nunique()\n",
        "\n",
        "# Get a list of all categorical features with cardinality <= 5000\n",
        "categorical_features = cardinality[cardinality <= 5000].index.tolist()\n",
        "\n",
        "# Combine the lists \n",
        "features = numeric_features + categorical_features\n",
        "\n",
        "# Arrange data into X features matrix and y target vector \n",
        "X_train = train[features]\n",
        "y_train = train[target]\n",
        "X_test = test[features]\n",
        "y_test = test[target]"
      ],
      "execution_count": 11,
      "outputs": []
    },
    {
      "cell_type": "code",
      "metadata": {
        "id": "zXpM2m8Geh05",
        "outputId": "bd52717c-9e6b-4538-b5a3-5b1a64ed1854",
        "colab": {
          "base_uri": "https://localhost:8080/"
        }
      },
      "source": [
        "#make pipeline\n",
        "pipeline = make_pipeline(\n",
        "    ce.OrdinalEncoder(), \n",
        "    SimpleImputer(strategy='median'), \n",
        "    RandomForestClassifier(n_estimators=1000, random_state=42, n_jobs=-1)\n",
        ")\n",
        "\n",
        "# Fit on train, score on val, predict on test\n",
        "pipeline.fit(X_train, y_train);\n",
        "\n",
        "#score pipeline before triming features\n",
        "pipeline.score(X_test, y_test)"
      ],
      "execution_count": 12,
      "outputs": [
        {
          "output_type": "execute_result",
          "data": {
            "text/plain": [
              "0.7947598253275109"
            ]
          },
          "metadata": {
            "tags": []
          },
          "execution_count": 12
        }
      ]
    },
    {
      "cell_type": "code",
      "metadata": {
        "id": "Q1OS6SBLgFWm",
        "outputId": "b9d72790-cbae-4866-a88d-9c043513e2d2",
        "colab": {
          "base_uri": "https://localhost:8080/",
          "height": 281
        }
      },
      "source": [
        "y_pred = pipeline.predict(X_test)\n",
        "ax = plot_confusion_matrix(y_test, y_pred)\n",
        "\n",
        "ax.set_title('RF with FS Confusion Matrix');"
      ],
      "execution_count": 13,
      "outputs": [
        {
          "output_type": "display_data",
          "data": {
            "image/png": "[encoded data removed]",
            "text/plain": [
              "<Figure size 432x288 with 2 Axes>"
            ]
          },
          "metadata": {
            "tags": [],
            "needs_background": "light"
          }
        }
      ]
    }
  ]
}